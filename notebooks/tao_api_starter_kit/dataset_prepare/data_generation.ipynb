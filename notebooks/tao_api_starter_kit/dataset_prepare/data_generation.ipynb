{
 "cells": [
  {
   "cell_type": "markdown",
   "metadata": {},
   "source": [
    "### Data Generation dataset preparation"
   ]
  },
  {
   "cell_type": "markdown",
   "metadata": {},
   "source": [
    "### FIXME\n",
    "\n",
    "1. Choose between default and custom dataset in FIXME 1 - default for the dataset used in this tutorial notebook; custom for a different dataset\n",
    "1. Assign path of DATA_DIR in FIXME 2\n",
    "1. Assign Cloud credentials in FIXME 3"
   ]
  },
  {
   "cell_type": "markdown",
   "metadata": {},
   "source": [
    "We will use the https://www.kaggle.com/datasets/fantacher/neu-metal-surface-defects-data dataset to train a StyleGAN-XL model. This dataset consists of six classes of images, organized into a folder structure where each class corresponds to a subfolder containing its respective images. The hierarchy of the `neu-metal-surface-defects-data` dataset is as follows:\n",
    "\n",
    "```\n",
    "neu-metal-surface-defects-data/\n",
    "├── class_1/\n",
    "│   ├── class_1_image1.png\n",
    "│   ├── class_1_image2.png\n",
    "│   ├── ...\n",
    "│   ├── class_1_imageN.png\n",
    "├── class_2/\n",
    "│   ├── class_2_image1.png\n",
    "│   ├── class_2_image2.png\n",
    "│   ├── ...\n",
    "│   ├── class_2_imageN.png\n",
    "```\n"
   ]
  },
  {
   "cell_type": "code",
   "execution_count": null,
   "metadata": {},
   "outputs": [],
   "source": [
    "import os\n",
    "import zipfile\n",
    "import shutil"
   ]
  },
  {
   "cell_type": "code",
   "execution_count": null,
   "metadata": {},
   "outputs": [],
   "source": [
    "dataset_to_be_used = \"default\" #FIXME1 \n",
    "DATA_DIR = \"/data/stylegan_xl\" #FIXME2\n",
    "os.environ['DATA_DIR']= DATA_DIR\n",
    "!mkdir -p $DATA_DIR"
   ]
  },
  {
   "cell_type": "markdown",
   "metadata": {},
   "source": [
    "### Dataset download and pre-processing <a class=\"anchor\" id=\"head-1\"></a>"
   ]
  },
  {
   "cell_type": "code",
   "execution_count": null,
   "metadata": {},
   "outputs": [],
   "source": [
    "if dataset_to_be_used == \"default\":\n",
    "  if not os.path.exists(os.path.join(DATA_DIR, \"neu-metal-surface-defects-data.zip\")):\n",
    "    ! curl -L -o $DATA_DIR/neu-metal-surface-defects-data.zip\\\n",
    "      https://www.kaggle.com/api/v1/datasets/download/fantacher/neu-metal-surface-defects-data"
   ]
  },
  {
   "cell_type": "code",
   "execution_count": null,
   "metadata": {},
   "outputs": [],
   "source": [
    "if dataset_to_be_used == \"default\":\n",
    "    # Path to the ZIP file\n",
    "    zip_file_path = os.path.join(DATA_DIR, \"neu-metal-surface-defects-data.zip\")\n",
    "\n",
    "    # Directory to extract files\n",
    "    extract_dir = DATA_DIR\n",
    "\n",
    "    # Desired folder name\n",
    "    desired_folder_name = \"NEU_Metal_Surface_Defects_Data\"\n",
    "\n",
    "    # Extract the ZIP file\n",
    "    with zipfile.ZipFile(zip_file_path, 'r') as zip_ref:\n",
    "        zip_ref.extractall(extract_dir)\n",
    "\n",
    "    # Original extracted folder name\n",
    "    original_folder_name = os.path.join(extract_dir, \"NEU Metal Surface Defects Data\")\n",
    "\n",
    "    # Rename the folder\n",
    "    renamed_folder = os.path.join(extract_dir, desired_folder_name)\n",
    "    if os.path.exists(renamed_folder):\n",
    "        shutil.rmtree(renamed_folder)  # Remove if the target folder already exists\n",
    "    os.rename(original_folder_name, renamed_folder)\n",
    "\n",
    "    # Convert .bmp files to .png\n",
    "    for root, dirs, files in os.walk(renamed_folder):\n",
    "        for file in files:\n",
    "            if file.endswith(\".bmp\"):\n",
    "                bmp_file_path = os.path.join(root, file)\n",
    "                png_file_path = os.path.join(root, file.replace(\".bmp\", \".png\"))\n",
    "\n",
    "                # Convert BMP to PNG\n",
    "                !python3 -m pip install Pillow\n",
    "                from PIL import Image\n",
    "                with Image.open(bmp_file_path) as img:\n",
    "                    img.convert(\"RGB\").save(png_file_path, \"PNG\")\n",
    "\n",
    "                # Remove the original BMP file\n",
    "                os.remove(bmp_file_path)\n",
    "\n",
    "    print(f\"Extraction and conversion completed. Files are in: {renamed_folder}\")"
   ]
  },
  {
   "cell_type": "code",
   "execution_count": null,
   "metadata": {},
   "outputs": [],
   "source": [
    "! ls -all $DATA_DIR/NEU_Metal_Surface_Defects_Data"
   ]
  },
  {
   "cell_type": "markdown",
   "metadata": {},
   "source": [
    "### Create Tar files to upload"
   ]
  },
  {
   "cell_type": "code",
   "execution_count": null,
   "metadata": {},
   "outputs": [],
   "source": [
    "!mkdir -p $DATA_DIR/cloud_folders/data/styleganxl_train $DATA_DIR/cloud_folders/data/styleganxl_val $DATA_DIR/cloud_folders/data/styleganxl_test\n",
    "\n",
    "!mkdir -p $DATA_DIR/NEU_Metal_Surface_Defects_Data/train_images/images\n",
    "!mkdir -p $DATA_DIR/NEU_Metal_Surface_Defects_Data/valid_images/images\n",
    "!mkdir -p $DATA_DIR/NEU_Metal_Surface_Defects_Data/test_images/images\n",
    "\n",
    "!cp -r $DATA_DIR/NEU_Metal_Surface_Defects_Data/train/* $DATA_DIR/NEU_Metal_Surface_Defects_Data/train_images/images\n",
    "!cp -r $DATA_DIR/NEU_Metal_Surface_Defects_Data/valid/* $DATA_DIR/NEU_Metal_Surface_Defects_Data/valid_images/images\n",
    "!cp -r $DATA_DIR/NEU_Metal_Surface_Defects_Data/test/* $DATA_DIR/NEU_Metal_Surface_Defects_Data/test_images/images\n",
    "\n",
    "!tar -C $DATA_DIR/NEU_Metal_Surface_Defects_Data/train_images/ -czf $DATA_DIR/cloud_folders/data/styleganxl_train/images.tar.gz images\n",
    "!tar -C $DATA_DIR/NEU_Metal_Surface_Defects_Data/valid_images/ -czf $DATA_DIR/cloud_folders/data/styleganxl_val/images.tar.gz images\n",
    "!tar -C $DATA_DIR/NEU_Metal_Surface_Defects_Data/test_images/ -czf $DATA_DIR/cloud_folders/data/styleganxl_test/images.tar.gz images"
   ]
  },
  {
   "cell_type": "markdown",
   "metadata": {},
   "source": [
    "### Final step: Upload the /data folder to your cloud storage and move on to running the API requests example notebooks\n",
    "When you do a ls of your bucket it should have /data folder and the subfolders we created above within in (classification_train, classification_val, classification_test)"
   ]
  },
  {
   "cell_type": "code",
   "execution_count": null,
   "metadata": {},
   "outputs": [],
   "source": [
    "!python3 -m pip install --upgrade awscli\n",
    "ACCESS_KEY=FIXME3.1\n",
    "SECRET_KEY=FIXME3.2\n",
    "BUCKET_NAME=FIXME3.3\n",
    "!AWS_ACCESS_KEY_ID={ACCESS_KEY} AWS_SECRET_ACCESS_KEY={SECRET_KEY} aws s3 cp {DATA_DIR}/cloud_folders/data/stylegan_train s3://{BUCKET_NAME}/data/stylegan_train --recursive\n",
    "!AWS_ACCESS_KEY_ID={ACCESS_KEY} AWS_SECRET_ACCESS_KEY={SECRET_KEY} aws s3 cp {DATA_DIR}/cloud_folders/data/stylegan_val s3://{BUCKET_NAME}/data/stylegan_val --recursive\n",
    "!AWS_ACCESS_KEY_ID={ACCESS_KEY} AWS_SECRET_ACCESS_KEY={SECRET_KEY} aws s3 cp {DATA_DIR}/cloud_folders/data/stylegan_test s3://{BUCKET_NAME}/data/stylegan_test --recursive"
   ]
  },
  {
   "cell_type": "code",
   "execution_count": null,
   "metadata": {},
   "outputs": [],
   "source": []
  }
 ],
 "metadata": {
  "kernelspec": {
   "display_name": ".venv",
   "language": "python",
   "name": "python3"
  },
  "language_info": {
   "codemirror_mode": {
    "name": "ipython",
    "version": 3
   },
   "file_extension": ".py",
   "mimetype": "text/x-python",
   "name": "python",
   "nbconvert_exporter": "python",
   "pygments_lexer": "ipython3",
   "version": "3.11.11"
  }
 },
 "nbformat": 4,
 "nbformat_minor": 2
}
